{
 "cells": [
  {
   "cell_type": "markdown",
   "metadata": {
    "id": "8guYh-VR7nlX"
   },
   "source": [
    "# Part 1 - Extracting and Saving Data from Yelp API"
   ]
  },
  {
   "cell_type": "markdown",
   "metadata": {},
   "source": [
    "## Obective"
   ]
  },
  {
   "cell_type": "markdown",
   "metadata": {
    "id": "8guYh-VR7nlX"
   },
   "source": [
    "- For this CodeAlong, we will be working with the Yelp API. \n",
    "- You will use the the Yelp API to search your home town for a cuisine type of your choice.\n",
    "- Next class, we will then use Plotly Express to create a map with the Mapbox API to visualize the results.\n",
    "    \n",
    "    "
   ]
  },
  {
   "cell_type": "markdown",
   "metadata": {
    "id": "8guYh-VR7nlX"
   },
   "source": [
    "## Tools You Will Use\n",
    "- Part 1:\n",
    "    - Yelp API:\n",
    "        - Getting Started: \n",
    "            - https://www.yelp.com/developers/documentation/v3/get_started\n",
    "\n",
    "    - `YelpAPI` python package\n",
    "        -  \"YelpAPI\": https://github.com/gfairchild/yelpapi\n",
    "- Part 2:\n",
    "\n",
    "    - Plotly Express: https://plotly.com/python/getting-started/\n",
    "        - With Mapbox API: https://www.mapbox.com/\n",
    "        - `px.scatter_mapbox` [Documentation](https://plotly.com/python/scattermapbox/): \n",
    "\n",
    "\n"
   ]
  },
  {
   "cell_type": "markdown",
   "metadata": {},
   "source": [
    "### Applying Code From\n",
    "- Efficient API Calls Lesson Link: https://login.codingdojo.com/m/376/12529/88078"
   ]
  },
  {
   "cell_type": "code",
   "execution_count": 2,
   "metadata": {},
   "outputs": [
    {
     "name": "stdout",
     "output_type": "stream",
     "text": [
      "Collecting tqdm\n",
      "  Downloading tqdm-4.64.0-py2.py3-none-any.whl (78 kB)\n",
      "\u001b[2K     \u001b[90m━━━━━━━━━━━━━━━━━━━━━━━━━━━━━━━━━━━━━━━━\u001b[0m \u001b[32m78.4/78.4 KB\u001b[0m \u001b[31m1.6 MB/s\u001b[0m eta \u001b[36m0:00:00\u001b[0ma \u001b[36m0:00:01\u001b[0m\n",
      "\u001b[?25hInstalling collected packages: tqdm\n",
      "Successfully installed tqdm-4.64.0\n"
     ]
    }
   ],
   "source": [
    "!pip install tqdm"
   ]
  },
  {
   "cell_type": "code",
   "execution_count": 7,
   "metadata": {},
   "outputs": [],
   "source": [
    "# Standard Imports\n",
    "import numpy as np\n",
    "import pandas as pd\n",
    "import matplotlib.pyplot as plt\n",
    "import seaborn as sns\n",
    "\n",
    "# Additional Imports\n",
    "import os, json, math, time\n",
    "from yelpapi import YelpAPI\n",
    "from tqdm.notebook import tqdm_notebook"
   ]
  },
  {
   "cell_type": "markdown",
   "metadata": {
    "id": "1l3Z-79nBSX9"
   },
   "source": [
    "## 1. Registering for Required APIs"
   ]
  },
  {
   "cell_type": "markdown",
   "metadata": {
    "id": "1l3Z-79nBSX9"
   },
   "source": [
    "\n",
    "- Yelp: https://www.yelp.com/developers/documentation/v3/get_started\n"
   ]
  },
  {
   "cell_type": "markdown",
   "metadata": {},
   "source": [
    "> Check the official API documentation to know what arguments we can search for: https://www.yelp.com/developers/documentation/v3/business_search"
   ]
  },
  {
   "cell_type": "markdown",
   "metadata": {},
   "source": [
    "### Load Credentials and Create Yelp API Object"
   ]
  },
  {
   "cell_type": "code",
   "execution_count": 4,
   "metadata": {
    "ExecuteTime": {
     "end_time": "2022-03-25T18:20:46.629934Z",
     "start_time": "2022-03-25T18:20:45.915864Z"
    },
    "colab": {
     "base_uri": "https://localhost:8080/"
    },
    "id": "xJYqVvNkE36a",
    "outputId": "67798160-dea2-41fc-9040-2b3833efa560"
   },
   "outputs": [
    {
     "data": {
      "text/plain": [
       "dict_keys(['client-id', 'api-key'])"
      ]
     },
     "execution_count": 4,
     "metadata": {},
     "output_type": "execute_result"
    }
   ],
   "source": [
    "# Load API Credentials\n",
    "with open('/Users/hkim1297/.secret/yelp_api.json') as f:\n",
    "    creds = json.load(f)\n",
    "creds.keys()"
   ]
  },
  {
   "cell_type": "code",
   "execution_count": 9,
   "metadata": {},
   "outputs": [
    {
     "data": {
      "text/plain": [
       "<yelpapi.yelpapi.YelpAPI at 0x7fb090339190>"
      ]
     },
     "execution_count": 9,
     "metadata": {},
     "output_type": "execute_result"
    }
   ],
   "source": [
    "# Instantiate YelpAPI Variable\n",
    "yelp = YelpAPI(creds['api-key'])\n",
    "yelp"
   ]
  },
  {
   "cell_type": "markdown",
   "metadata": {},
   "source": [
    "### Define Search Terms and File Paths"
   ]
  },
  {
   "cell_type": "code",
   "execution_count": 10,
   "metadata": {},
   "outputs": [],
   "source": [
    "# set our API call parameters and filename before the first call\n",
    "LOCATION = \"Seattle, WA 98122\"\n",
    "TERM = \"Coffee\""
   ]
  },
  {
   "cell_type": "code",
   "execution_count": 11,
   "metadata": {},
   "outputs": [],
   "source": [
    "## Specify folder for saving data\n",
    "FOLDER = \"Data/\"\n",
    "os.makedirs(FOLDER, exist_ok=True)\n",
    "# Specifying JSON_FILE filename (can include a folder)\n",
    "JSON_FILE = FOLDER+\"Seattle Coffee.json\""
   ]
  },
  {
   "cell_type": "code",
   "execution_count": 12,
   "metadata": {},
   "outputs": [
    {
     "data": {
      "text/plain": [
       "'Seattle'"
      ]
     },
     "execution_count": 12,
     "metadata": {},
     "output_type": "execute_result"
    }
   ],
   "source": [
    "LOCATION.split(',')[0]"
   ]
  },
  {
   "cell_type": "code",
   "execution_count": 22,
   "metadata": {},
   "outputs": [],
   "source": [
    "# ANOTHER way of # Specifying JSON_FILE filename (can include a folder)\n",
    "JSON_FILE = FOLDER+f\"{LOCATION.split(',')[0]} - {TERM}.json\""
   ]
  },
  {
   "cell_type": "markdown",
   "metadata": {},
   "source": [
    "### Check if Json File exists and Create it if it doesn't"
   ]
  },
  {
   "cell_type": "code",
   "execution_count": 23,
   "metadata": {},
   "outputs": [
    {
     "data": {
      "text/plain": [
       "False"
      ]
     },
     "execution_count": 23,
     "metadata": {},
     "output_type": "execute_result"
    }
   ],
   "source": [
    "## Check if JSON_FILE exists\n",
    "os.path.isfile(JSON_FILE)"
   ]
  },
  {
   "cell_type": "code",
   "execution_count": 24,
   "metadata": {},
   "outputs": [
    {
     "name": "stdout",
     "output_type": "stream",
     "text": [
      "The file does not exist. Creating empty file\n"
     ]
    }
   ],
   "source": [
    "\n",
    "## If it does not exist: \n",
    "    print('The file does not exist. Creating empty file')\n",
    "    ## CREATE ANY NEEDED FOLDERS\n",
    "    # Get the Folder Name only\n",
    "    with open(JSON_FILE, 'w') as f:\n",
    "        json.dump(results['businesses'], f)\n",
    "    \n",
    "    ## If JSON_FILE included a folder:\n",
    "\n",
    "        # create the folder\n",
    "\n",
    "        \n",
    "        \n",
    "    ## INFORM USER AND SAVE EMPTY LIST\n",
    "\n",
    "    \n",
    "    \n",
    "    ## save the first page of results\n",
    "\n",
    "        \n",
    "## If it exists, inform user\n",
    "else:\n",
    "    print('it already exists')"
   ]
  },
  {
   "cell_type": "markdown",
   "metadata": {},
   "source": [
    "### Load JSON FIle and account for previous results"
   ]
  },
  {
   "cell_type": "code",
   "execution_count": 25,
   "metadata": {},
   "outputs": [
    {
     "data": {
      "text/plain": [
       "20"
      ]
     },
     "execution_count": 25,
     "metadata": {},
     "output_type": "execute_result"
    }
   ],
   "source": [
    "## Load previous results and use len of results for offset\n",
    "prev = pd.read_json(JSON_FILE)\n",
    "## set offset based on previous results\n",
    "nResults = len(prev) - 700\n",
    "nResults"
   ]
  },
  {
   "cell_type": "markdown",
   "metadata": {},
   "source": [
    "### Make the first API call to get the first page of data"
   ]
  },
  {
   "cell_type": "markdown",
   "metadata": {},
   "source": [
    "- We will use this first result to check:\n",
    "    - how many total results there are?\n",
    "    - Where is the actual data we want to save?\n",
    "    - how many results do we get at a time?\n"
   ]
  },
  {
   "cell_type": "code",
   "execution_count": 13,
   "metadata": {},
   "outputs": [
    {
     "data": {
      "text/plain": [
       "dict"
      ]
     },
     "execution_count": 13,
     "metadata": {},
     "output_type": "execute_result"
    }
   ],
   "source": [
    "# use our yelp_api variable's search_query method to perform our API call\n",
    "results = yelp.search_query(term=TERM, location=LOCATION)\n",
    "type(results)"
   ]
  },
  {
   "cell_type": "code",
   "execution_count": 15,
   "metadata": {},
   "outputs": [
    {
     "data": {
      "text/plain": [
       "dict_keys(['businesses', 'total', 'region'])"
      ]
     },
     "execution_count": 15,
     "metadata": {},
     "output_type": "execute_result"
    }
   ],
   "source": [
    "results.keys()"
   ]
  },
  {
   "cell_type": "code",
   "execution_count": 16,
   "metadata": {},
   "outputs": [
    {
     "data": {
      "text/plain": [
       "20"
      ]
     },
     "execution_count": 16,
     "metadata": {},
     "output_type": "execute_result"
    }
   ],
   "source": [
    "len(results['businesses']) # only from first page"
   ]
  },
  {
   "cell_type": "code",
   "execution_count": 19,
   "metadata": {},
   "outputs": [
    {
     "data": {
      "text/plain": [
       "1500"
      ]
     },
     "execution_count": 19,
     "metadata": {},
     "output_type": "execute_result"
    }
   ],
   "source": [
    "## How many results total?\n",
    "results['total']"
   ]
  },
  {
   "cell_type": "code",
   "execution_count": 20,
   "metadata": {
    "ExecuteTime": {
     "end_time": "2022-03-24T20:01:48.867510Z",
     "start_time": "2022-03-24T20:01:48.854746Z"
    },
    "colab": {
     "base_uri": "https://localhost:8080/"
    },
    "id": "Myur3i1KGhPf",
    "outputId": "f447c6f9-596b-41d0-ccda-50af0ce82108"
   },
   "outputs": [
    {
     "data": {
      "text/html": [
       "<div>\n",
       "<style scoped>\n",
       "    .dataframe tbody tr th:only-of-type {\n",
       "        vertical-align: middle;\n",
       "    }\n",
       "\n",
       "    .dataframe tbody tr th {\n",
       "        vertical-align: top;\n",
       "    }\n",
       "\n",
       "    .dataframe thead th {\n",
       "        text-align: right;\n",
       "    }\n",
       "</style>\n",
       "<table border=\"1\" class=\"dataframe\">\n",
       "  <thead>\n",
       "    <tr style=\"text-align: right;\">\n",
       "      <th></th>\n",
       "      <th>id</th>\n",
       "      <th>alias</th>\n",
       "      <th>name</th>\n",
       "      <th>image_url</th>\n",
       "      <th>is_closed</th>\n",
       "      <th>url</th>\n",
       "      <th>review_count</th>\n",
       "      <th>categories</th>\n",
       "      <th>rating</th>\n",
       "      <th>coordinates</th>\n",
       "      <th>transactions</th>\n",
       "      <th>price</th>\n",
       "      <th>location</th>\n",
       "      <th>phone</th>\n",
       "      <th>display_phone</th>\n",
       "      <th>distance</th>\n",
       "    </tr>\n",
       "  </thead>\n",
       "  <tbody>\n",
       "    <tr>\n",
       "      <th>0</th>\n",
       "      <td>9TnUll8eOc5FREIQqrcrFg</td>\n",
       "      <td>verite-coffee-seattle</td>\n",
       "      <td>Verite Coffee</td>\n",
       "      <td>https://s3-media4.fl.yelpcdn.com/bphoto/SaSFeE...</td>\n",
       "      <td>False</td>\n",
       "      <td>https://www.yelp.com/biz/verite-coffee-seattle...</td>\n",
       "      <td>39</td>\n",
       "      <td>[{'alias': 'coffee', 'title': 'Coffee &amp; Tea'},...</td>\n",
       "      <td>3.5</td>\n",
       "      <td>{'latitude': 47.61175, 'longitude': -122.28953}</td>\n",
       "      <td>[]</td>\n",
       "      <td>$</td>\n",
       "      <td>{'address1': '1101 34th Ave', 'address2': '', ...</td>\n",
       "      <td>+12067094497</td>\n",
       "      <td>(206) 709-4497</td>\n",
       "      <td>483.915129</td>\n",
       "    </tr>\n",
       "    <tr>\n",
       "      <th>1</th>\n",
       "      <td>yLZborRy-JRAKtTWBk9a9g</td>\n",
       "      <td>union-coffee-and-wine-seattle</td>\n",
       "      <td>Union Coffee and Wine</td>\n",
       "      <td>https://s3-media2.fl.yelpcdn.com/bphoto/99K9k7...</td>\n",
       "      <td>False</td>\n",
       "      <td>https://www.yelp.com/biz/union-coffee-and-wine...</td>\n",
       "      <td>94</td>\n",
       "      <td>[{'alias': 'coffee', 'title': 'Coffee &amp; Tea'},...</td>\n",
       "      <td>4.5</td>\n",
       "      <td>{'latitude': 47.61274, 'longitude': -122.30103}</td>\n",
       "      <td>[delivery]</td>\n",
       "      <td>$</td>\n",
       "      <td>{'address1': '2407 E Union St', 'address2': 'S...</td>\n",
       "      <td>+17066314474</td>\n",
       "      <td>(706) 631-4474</td>\n",
       "      <td>406.415695</td>\n",
       "    </tr>\n",
       "    <tr>\n",
       "      <th>2</th>\n",
       "      <td>mUtrinuyznLic5wYc09LeA</td>\n",
       "      <td>arosa-cafe-seattle-6</td>\n",
       "      <td>Arosa Cafe</td>\n",
       "      <td>https://s3-media2.fl.yelpcdn.com/bphoto/Sz1XcR...</td>\n",
       "      <td>False</td>\n",
       "      <td>https://www.yelp.com/biz/arosa-cafe-seattle-6?...</td>\n",
       "      <td>103</td>\n",
       "      <td>[{'alias': 'coffee', 'title': 'Coffee &amp; Tea'},...</td>\n",
       "      <td>4.5</td>\n",
       "      <td>{'latitude': 47.62620255, 'longitude': -122.29...</td>\n",
       "      <td>[delivery, pickup]</td>\n",
       "      <td>$</td>\n",
       "      <td>{'address1': '3121 E Madison St', 'address2': ...</td>\n",
       "      <td>+12064050605</td>\n",
       "      <td>(206) 405-0605</td>\n",
       "      <td>1490.203135</td>\n",
       "    </tr>\n",
       "    <tr>\n",
       "      <th>3</th>\n",
       "      <td>yCLUXtS6a1xMicPSsmdTfA</td>\n",
       "      <td>squirrel-chops-seattle</td>\n",
       "      <td>Squirrel Chops</td>\n",
       "      <td>https://s3-media2.fl.yelpcdn.com/bphoto/0fA2eb...</td>\n",
       "      <td>False</td>\n",
       "      <td>https://www.yelp.com/biz/squirrel-chops-seattl...</td>\n",
       "      <td>89</td>\n",
       "      <td>[{'alias': 'coffee', 'title': 'Coffee &amp; Tea'}]</td>\n",
       "      <td>4.5</td>\n",
       "      <td>{'latitude': 47.6128151, 'longitude': -122.303...</td>\n",
       "      <td>[]</td>\n",
       "      <td>$</td>\n",
       "      <td>{'address1': '2201 E Union St', 'address2': ''...</td>\n",
       "      <td>+12064857017</td>\n",
       "      <td>(206) 485-7017</td>\n",
       "      <td>572.723877</td>\n",
       "    </tr>\n",
       "    <tr>\n",
       "      <th>4</th>\n",
       "      <td>Q8Nlx_FeZ4LW0kdbnHoyrw</td>\n",
       "      <td>qed-coffee-seattle</td>\n",
       "      <td>QED Coffee</td>\n",
       "      <td>https://s3-media3.fl.yelpcdn.com/bphoto/HwagNI...</td>\n",
       "      <td>False</td>\n",
       "      <td>https://www.yelp.com/biz/qed-coffee-seattle?ad...</td>\n",
       "      <td>104</td>\n",
       "      <td>[{'alias': 'coffee', 'title': 'Coffee &amp; Tea'}]</td>\n",
       "      <td>4.5</td>\n",
       "      <td>{'latitude': 47.5896816513796, 'longitude': -1...</td>\n",
       "      <td>[delivery]</td>\n",
       "      <td>$$</td>\n",
       "      <td>{'address1': '1418 31st Ave S', 'address2': ''...</td>\n",
       "      <td>+12062357678</td>\n",
       "      <td>(206) 235-7678</td>\n",
       "      <td>2615.675293</td>\n",
       "    </tr>\n",
       "  </tbody>\n",
       "</table>\n",
       "</div>"
      ],
      "text/plain": [
       "                       id                          alias  \\\n",
       "0  9TnUll8eOc5FREIQqrcrFg          verite-coffee-seattle   \n",
       "1  yLZborRy-JRAKtTWBk9a9g  union-coffee-and-wine-seattle   \n",
       "2  mUtrinuyznLic5wYc09LeA           arosa-cafe-seattle-6   \n",
       "3  yCLUXtS6a1xMicPSsmdTfA         squirrel-chops-seattle   \n",
       "4  Q8Nlx_FeZ4LW0kdbnHoyrw             qed-coffee-seattle   \n",
       "\n",
       "                     name                                          image_url  \\\n",
       "0           Verite Coffee  https://s3-media4.fl.yelpcdn.com/bphoto/SaSFeE...   \n",
       "1  Union Coffee and Wine   https://s3-media2.fl.yelpcdn.com/bphoto/99K9k7...   \n",
       "2              Arosa Cafe  https://s3-media2.fl.yelpcdn.com/bphoto/Sz1XcR...   \n",
       "3          Squirrel Chops  https://s3-media2.fl.yelpcdn.com/bphoto/0fA2eb...   \n",
       "4              QED Coffee  https://s3-media3.fl.yelpcdn.com/bphoto/HwagNI...   \n",
       "\n",
       "   is_closed                                                url  review_count  \\\n",
       "0      False  https://www.yelp.com/biz/verite-coffee-seattle...            39   \n",
       "1      False  https://www.yelp.com/biz/union-coffee-and-wine...            94   \n",
       "2      False  https://www.yelp.com/biz/arosa-cafe-seattle-6?...           103   \n",
       "3      False  https://www.yelp.com/biz/squirrel-chops-seattl...            89   \n",
       "4      False  https://www.yelp.com/biz/qed-coffee-seattle?ad...           104   \n",
       "\n",
       "                                          categories  rating  \\\n",
       "0  [{'alias': 'coffee', 'title': 'Coffee & Tea'},...     3.5   \n",
       "1  [{'alias': 'coffee', 'title': 'Coffee & Tea'},...     4.5   \n",
       "2  [{'alias': 'coffee', 'title': 'Coffee & Tea'},...     4.5   \n",
       "3     [{'alias': 'coffee', 'title': 'Coffee & Tea'}]     4.5   \n",
       "4     [{'alias': 'coffee', 'title': 'Coffee & Tea'}]     4.5   \n",
       "\n",
       "                                         coordinates        transactions  \\\n",
       "0    {'latitude': 47.61175, 'longitude': -122.28953}                  []   \n",
       "1    {'latitude': 47.61274, 'longitude': -122.30103}          [delivery]   \n",
       "2  {'latitude': 47.62620255, 'longitude': -122.29...  [delivery, pickup]   \n",
       "3  {'latitude': 47.6128151, 'longitude': -122.303...                  []   \n",
       "4  {'latitude': 47.5896816513796, 'longitude': -1...          [delivery]   \n",
       "\n",
       "  price                                           location         phone  \\\n",
       "0     $  {'address1': '1101 34th Ave', 'address2': '', ...  +12067094497   \n",
       "1     $  {'address1': '2407 E Union St', 'address2': 'S...  +17066314474   \n",
       "2     $  {'address1': '3121 E Madison St', 'address2': ...  +12064050605   \n",
       "3     $  {'address1': '2201 E Union St', 'address2': ''...  +12064857017   \n",
       "4    $$  {'address1': '1418 31st Ave S', 'address2': ''...  +12062357678   \n",
       "\n",
       "    display_phone     distance  \n",
       "0  (206) 709-4497   483.915129  \n",
       "1  (706) 631-4474   406.415695  \n",
       "2  (206) 405-0605  1490.203135  \n",
       "3  (206) 485-7017   572.723877  \n",
       "4  (206) 235-7678  2615.675293  "
      ]
     },
     "execution_count": 20,
     "metadata": {},
     "output_type": "execute_result"
    }
   ],
   "source": [
    "# let's save as a df\n",
    "df = pd.DataFrame(results['businesses'])\n",
    "df.head()"
   ]
  },
  {
   "cell_type": "markdown",
   "metadata": {},
   "source": [
    "- Where is the actual data we want to save?"
   ]
  },
  {
   "cell_type": "code",
   "execution_count": null,
   "metadata": {},
   "outputs": [],
   "source": []
  },
  {
   "cell_type": "code",
   "execution_count": 26,
   "metadata": {},
   "outputs": [
    {
     "data": {
      "text/plain": [
       "20"
      ]
     },
     "execution_count": 26,
     "metadata": {},
     "output_type": "execute_result"
    }
   ],
   "source": [
    "## How many did we get the details for?\n",
    "results_per_page = len(results['businesses'])\n",
    "results_per_page"
   ]
  },
  {
   "cell_type": "markdown",
   "metadata": {},
   "source": [
    "- Calculate how many pages of results needed to cover the total_results"
   ]
  },
  {
   "cell_type": "code",
   "execution_count": 27,
   "metadata": {},
   "outputs": [
    {
     "data": {
      "text/plain": [
       "75"
      ]
     },
     "execution_count": 27,
     "metadata": {},
     "output_type": "execute_result"
    }
   ],
   "source": [
    "# Use math.ceil to round up for the total number of pages of results.\n",
    "import math\n",
    "nPages = math.ceil(results['total']/results_per_page)\n",
    "nPages"
   ]
  },
  {
   "cell_type": "code",
   "execution_count": 28,
   "metadata": {},
   "outputs": [
    {
     "ename": "SyntaxError",
     "evalue": "invalid syntax (2670142990.py, line 16)",
     "output_type": "error",
     "traceback": [
      "\u001b[0;36m  File \u001b[0;32m\"/var/folders/k9/8pn_tzdn4pl3fffspzcc_fsc0000gn/T/ipykernel_28135/2670142990.py\"\u001b[0;36m, line \u001b[0;32m16\u001b[0m\n\u001b[0;31m    results =\u001b[0m\n\u001b[0m              ^\u001b[0m\n\u001b[0;31mSyntaxError\u001b[0m\u001b[0;31m:\u001b[0m invalid syntax\n"
     ]
    }
   ],
   "source": [
    "for i in tqdm_notebook( range(1,3)):\n",
    "    ## The block of code we want to TRY to run\n",
    "        \n",
    "        \n",
    "        ## Read in results in progress file and check the length\n",
    "        with open(JSON_FILE) as f:\n",
    "            prevResults = json.load(f)\n",
    "            \n",
    "        ## set offset based on previous results\n",
    "        nResults = len(prevResults)\n",
    "        ## save number of results for to use as offset\n",
    "        results = yelp.search_query(term=TERM, location=LOCATION, offset=nResults)\n",
    "        \n",
    "        \n",
    "        ## use n_results as the OFFSET \n",
    "        results = \n",
    "        \n",
    "        ## append new results and save to file\n",
    "        \n",
    "        prevResults.extend(results['businesses'])\n",
    "        with open(JSON_FILE, 'w') as f:\n",
    "            json.dump(prevResults,f)\n",
    "            \n",
    "    ## What to do if we get an error/exception.\n",
    "        \n"
   ]
  },
  {
   "cell_type": "markdown",
   "metadata": {},
   "source": [
    "## Open the Final JSON File with Pandas"
   ]
  },
  {
   "cell_type": "code",
   "execution_count": null,
   "metadata": {},
   "outputs": [],
   "source": [
    "df = None"
   ]
  },
  {
   "cell_type": "code",
   "execution_count": null,
   "metadata": {},
   "outputs": [],
   "source": [
    "## convert the filename to a .csv.gz\n",
    "csv_file = JSON_FILE.replace('.json','.csv.gz')\n",
    "csv_file"
   ]
  },
  {
   "cell_type": "code",
   "execution_count": null,
   "metadata": {},
   "outputs": [],
   "source": [
    "## Save it as a compressed csv (to save space)\n"
   ]
  },
  {
   "cell_type": "markdown",
   "metadata": {},
   "source": [
    "## Bonus: compare filesize with os module's `os.path.getsize`"
   ]
  },
  {
   "cell_type": "code",
   "execution_count": null,
   "metadata": {},
   "outputs": [],
   "source": [
    "size_json = os.path.getsize(JSON_FILE)\n",
    "size_csv_gz = os.path.getsize(JSON_FILE.replace('.json','.csv.gz'))\n",
    "\n",
    "print(f'JSON FILE: {size_json:,} Bytes')\n",
    "print(f'CSV.GZ FILE: {size_csv_gz:,} Bytes')\n",
    "\n",
    "print(f'the csv.gz is {size_json/size_csv_gz} times smaller!')"
   ]
  },
  {
   "cell_type": "markdown",
   "metadata": {},
   "source": [
    "## Next Class: Processing the Results and Mapping "
   ]
  }
 ],
 "metadata": {
  "colab": {
   "collapsed_sections": [],
   "name": "Test Yelp API Package.ipynb",
   "provenance": []
  },
  "kernelspec": {
   "display_name": "Python (dojo-env)",
   "language": "python",
   "name": "dojo-env"
  },
  "language_info": {
   "codemirror_mode": {
    "name": "ipython",
    "version": 3
   },
   "file_extension": ".py",
   "mimetype": "text/x-python",
   "name": "python",
   "nbconvert_exporter": "python",
   "pygments_lexer": "ipython3",
   "version": "3.7.12"
  },
  "toc": {
   "base_numbering": 1,
   "nav_menu": {},
   "number_sections": false,
   "sideBar": true,
   "skip_h1_title": false,
   "title_cell": "Table of Contents",
   "title_sidebar": "Contents",
   "toc_cell": false,
   "toc_position": {},
   "toc_section_display": true,
   "toc_window_display": true
  }
 },
 "nbformat": 4,
 "nbformat_minor": 1
}
